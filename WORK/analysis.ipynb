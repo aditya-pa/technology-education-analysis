{
 "cells": [
  {
   "cell_type": "code",
   "execution_count": 1,
   "id": "2584f7a4",
   "metadata": {},
   "outputs": [],
   "source": [
    "import pandas as pd\n",
    "import matplotlib.pyplot as plt\n",
    "\n",
    "# Load Excel file with all 4 sheets\n",
    "excel_file = pd.ExcelFile(\"Data.xlsx\")\n",
    "\n",
    "# Load individual sheets\n",
    "students_india = pd.read_excel(excel_file, sheet_name=\"Students_India\")\n",
    "students_ireland = pd.read_excel(excel_file, sheet_name=\"Students_Ireland\")\n"
   ]
  },
  {
   "cell_type": "code",
   "execution_count": 4,
   "id": "a055f7f4",
   "metadata": {},
   "outputs": [
    {
     "data": {
      "text/plain": [
       "Index(['Id', 'Start time', 'Completion time', 'Email', 'Name',\n",
       "       'What age are you?\\n', 'Are you a boy or a girl?\\n',\n",
       "       'Would you like to go to college when you finish secondary school? \\n\\n',\n",
       "       'What would you like to be when you are older?',\n",
       "       'How confident are you in your coding skills? ',\n",
       "       'How confident are you in your computer skills? ',\n",
       "       'How interested are you in science and technology? ',\n",
       "       'How interested are you in maths?\\n',\n",
       "       'Do you have any of the following types of technology in the home? (Please choose as many as apply) ',\n",
       "       'How many hours do you use technology each day?',\n",
       "       'What do you use technology for?',\n",
       "       'Have you attended any coding club or classes prior to this course from any institute?',\n",
       "       'Have you heard of any programming language like',\n",
       "       'We would like to ask you some questions about your experience with coding and technology and the technology community.  When we say the technology community, we mean all of the people who are involved',\n",
       "       'We would like to ask you some questions about your experience with coding and technology and the technology community.  When we say the technology community, we mean all of the people who are involved1',\n",
       "       'We would like to ask you some questions about your experience with coding and technology and the technology community.  When we say the technology community, we mean all of the people who are involved2',\n",
       "       'We would like to ask you some questions about your experience with coding and technology and the technology community.  When we say the technology community, we mean all of the people who are involved3',\n",
       "       'We would like to ask you some questions about your experience with coding and technology and the technology community.  When we say the technology community, we mean all of the people who are involved4',\n",
       "       'We would like to ask you some questions about your experience with coding and technology and the technology community.  When we say the technology community, we mean all of the people who are involved5',\n",
       "       'We would like to ask you some questions about your experience with coding and technology and the technology community.  When we say the technology community, we mean all of the people who are involved6',\n",
       "       'We would like to ask you some questions about your experience with coding and technology and the technology community.  When we say the technology community, we mean all of the people who are involved7',\n",
       "       'We would like to ask you some questions about your experience with coding and technology and the technology community.  When we say the technology community, we mean all of the people who are involved8',\n",
       "       'We would like to ask you some questions about your experience with coding and technology and the technology community.  When we say the technology community, we mean all of the people who are involved9',\n",
       "       'We would like to ask you some questions about your experience with coding and technology and the technology community.  When we say the technology community, we mean all of the people who are involved10',\n",
       "       'We would like to ask you some questions about your experience with coding and technology and the technology community.  When we say the technology community, we mean all of the people who are involved11',\n",
       "       'Now we would like to ask you some questions about using your technology skills in the future. Please put a tick in the box which matches how you feel about each sentence..Learning about technology is ',\n",
       "       'Now we would like to ask you some questions about using your technology skills in the future. Please put a tick in the box which matches how you feel about each sentence..I will study technology if I ',\n",
       "       'Now we would like to ask you some questions about using your technology skills in the future. Please put a tick in the box which matches how you feel about each sentence..I will not pursue a   technol',\n",
       "       'Now we would like to ask you some questions about using your technology skills in the future. Please put a tick in the box which matches how you feel about each sentence..I would like to learn more ab',\n",
       "       'Now we would like to ask you some questions about using your technology skills in the future. Please put a tick in the box which matches how you feel about each sentence..I will continue studying   te',\n",
       "       'Now we would like to ask you some questions about using your technology skills in the future. Please put a tick in the box which matches how you feel about each sentence..I would enjoy working in a   ',\n",
       "       'Now we would like to ask you some questions about using your technology skills in the future. Please put a tick in the box which matches how you feel about each sentence..If I could choose, I would no',\n",
       "       'Now we would like to ask you some questions about using your technology skills in the future. Please put a tick in the box which matches how you feel about each sentence..I will take additional classe',\n",
       "       'Now we would like to ask you some questions about using your technology skills in the future. Please put a tick in the box which matches how you feel about each sentence..I am motivated to pursue a   ',\n",
       "       'How good do you think you would be at coding? Please put a tick in the scale below to rate yourself. 1 on the scale means not at all good and 7 on the scale means very good. .',\n",
       "       'Which STEM area would you prefer for your further education?',\n",
       "       'Compared to most of your other school subjects, how good do you think you’d be at coding? 1 on the scale means not good at all compared to your other school subjects and 7 on the scale means much bett',\n",
       "       'I think that girls usually do well in technology. Please rate how much you agree with this statement on a scale from 0 to 100 by writing a number in the box, where 0 is not true at all and 100 is very',\n",
       "       'I think that boys usually do well in technology. Please rate how much you agree with this statement on a scale from 0 to 100 by writing a number in the box, where 0 is not true at all and 100 is very ',\n",
       "       'I think that children who are neither boys or girls do well in technology. Please rate how much you agree with this statement on a scale from 0 to 100 by putting a tick in the box, where 0 is not true',\n",
       "       'What do you think you can do if you are a coder? \\n',\n",
       "       'Have you ever taken any computer science courses in the past? (if yes, write in \"other\" the age you were when you did the computer science course)',\n",
       "       'Have you ever taken any coding courses in the past? (if yes, write in \"other\" the age you were when you did the coding course AND write the language(s), technologies, software learned)'],\n",
       "      dtype='object')"
      ]
     },
     "execution_count": 4,
     "metadata": {},
     "output_type": "execute_result"
    }
   ],
   "source": [
    "students_india.columns"
   ]
  },
  {
   "cell_type": "code",
   "execution_count": null,
   "id": "c487c7d6",
   "metadata": {},
   "outputs": [
    {
     "ename": "KeyError",
     "evalue": "\"['How confident are you in your coding skills?', 'How confident are you in your computer skills?', 'How interested are you in science and technology?', 'How interested are you in maths?', 'I am motivated to pursue a career in technology', 'I will continue studying technology after I leave secondary school', 'I would enjoy working in a technology-related career'] not in index\"",
     "output_type": "error",
     "traceback": [
      "\u001b[31m---------------------------------------------------------------------------\u001b[39m",
      "\u001b[31mKeyError\u001b[39m                                  Traceback (most recent call last)",
      "\u001b[36mCell\u001b[39m\u001b[36m \u001b[39m\u001b[32mIn[2]\u001b[39m\u001b[32m, line 14\u001b[39m\n\u001b[32m      2\u001b[39m student_columns = {\n\u001b[32m      3\u001b[39m     \u001b[33m\"\u001b[39m\u001b[33mHow confident are you in your coding skills?\u001b[39m\u001b[33m\"\u001b[39m: \u001b[33m\"\u001b[39m\u001b[33mcoding_confidence\u001b[39m\u001b[33m\"\u001b[39m,\n\u001b[32m      4\u001b[39m     \u001b[33m\"\u001b[39m\u001b[33mHow confident are you in your computer skills?\u001b[39m\u001b[33m\"\u001b[39m: \u001b[33m\"\u001b[39m\u001b[33mcomputer_confidence\u001b[39m\u001b[33m\"\u001b[39m,\n\u001b[32m   (...)\u001b[39m\u001b[32m     10\u001b[39m     \u001b[33m\"\u001b[39m\u001b[33mI would enjoy working in a technology-related career\u001b[39m\u001b[33m\"\u001b[39m: \u001b[33m\"\u001b[39m\u001b[33menjoy_tech\u001b[39m\u001b[33m\"\u001b[39m,\n\u001b[32m     11\u001b[39m }\n\u001b[32m     13\u001b[39m \u001b[38;5;66;03m# Select and rename columns for both datasets\u001b[39;00m\n\u001b[32m---> \u001b[39m\u001b[32m14\u001b[39m students_india_cleaned = students_india[\u001b[38;5;28mlist\u001b[39m(student_columns.keys())].rename(columns=student_columns)\n\u001b[32m     15\u001b[39m students_ireland_cleaned = students_ireland[\u001b[38;5;28mlist\u001b[39m(student_columns.keys())].rename(columns=student_columns)\n\u001b[32m     17\u001b[39m \u001b[38;5;66;03m# Add country label\u001b[39;00m\n",
      "\u001b[36mFile \u001b[39m\u001b[32m/opt/anaconda3/envs/navigator-env/lib/python3.12/site-packages/pandas/core/frame.py:4113\u001b[39m, in \u001b[36mDataFrame.__getitem__\u001b[39m\u001b[34m(self, key)\u001b[39m\n\u001b[32m   4111\u001b[39m     \u001b[38;5;28;01mif\u001b[39;00m is_iterator(key):\n\u001b[32m   4112\u001b[39m         key = \u001b[38;5;28mlist\u001b[39m(key)\n\u001b[32m-> \u001b[39m\u001b[32m4113\u001b[39m     indexer = \u001b[38;5;28mself\u001b[39m.columns._get_indexer_strict(key, \u001b[33m\"\u001b[39m\u001b[33mcolumns\u001b[39m\u001b[33m\"\u001b[39m)[\u001b[32m1\u001b[39m]\n\u001b[32m   4115\u001b[39m \u001b[38;5;66;03m# take() does not accept boolean indexers\u001b[39;00m\n\u001b[32m   4116\u001b[39m \u001b[38;5;28;01mif\u001b[39;00m \u001b[38;5;28mgetattr\u001b[39m(indexer, \u001b[33m\"\u001b[39m\u001b[33mdtype\u001b[39m\u001b[33m\"\u001b[39m, \u001b[38;5;28;01mNone\u001b[39;00m) == \u001b[38;5;28mbool\u001b[39m:\n",
      "\u001b[36mFile \u001b[39m\u001b[32m/opt/anaconda3/envs/navigator-env/lib/python3.12/site-packages/pandas/core/indexes/base.py:6212\u001b[39m, in \u001b[36mIndex._get_indexer_strict\u001b[39m\u001b[34m(self, key, axis_name)\u001b[39m\n\u001b[32m   6209\u001b[39m \u001b[38;5;28;01melse\u001b[39;00m:\n\u001b[32m   6210\u001b[39m     keyarr, indexer, new_indexer = \u001b[38;5;28mself\u001b[39m._reindex_non_unique(keyarr)\n\u001b[32m-> \u001b[39m\u001b[32m6212\u001b[39m \u001b[38;5;28mself\u001b[39m._raise_if_missing(keyarr, indexer, axis_name)\n\u001b[32m   6214\u001b[39m keyarr = \u001b[38;5;28mself\u001b[39m.take(indexer)\n\u001b[32m   6215\u001b[39m \u001b[38;5;28;01mif\u001b[39;00m \u001b[38;5;28misinstance\u001b[39m(key, Index):\n\u001b[32m   6216\u001b[39m     \u001b[38;5;66;03m# GH 42790 - Preserve name from an Index\u001b[39;00m\n",
      "\u001b[36mFile \u001b[39m\u001b[32m/opt/anaconda3/envs/navigator-env/lib/python3.12/site-packages/pandas/core/indexes/base.py:6264\u001b[39m, in \u001b[36mIndex._raise_if_missing\u001b[39m\u001b[34m(self, key, indexer, axis_name)\u001b[39m\n\u001b[32m   6261\u001b[39m     \u001b[38;5;28;01mraise\u001b[39;00m \u001b[38;5;167;01mKeyError\u001b[39;00m(\u001b[33mf\u001b[39m\u001b[33m\"\u001b[39m\u001b[33mNone of [\u001b[39m\u001b[38;5;132;01m{\u001b[39;00mkey\u001b[38;5;132;01m}\u001b[39;00m\u001b[33m] are in the [\u001b[39m\u001b[38;5;132;01m{\u001b[39;00maxis_name\u001b[38;5;132;01m}\u001b[39;00m\u001b[33m]\u001b[39m\u001b[33m\"\u001b[39m)\n\u001b[32m   6263\u001b[39m not_found = \u001b[38;5;28mlist\u001b[39m(ensure_index(key)[missing_mask.nonzero()[\u001b[32m0\u001b[39m]].unique())\n\u001b[32m-> \u001b[39m\u001b[32m6264\u001b[39m \u001b[38;5;28;01mraise\u001b[39;00m \u001b[38;5;167;01mKeyError\u001b[39;00m(\u001b[33mf\u001b[39m\u001b[33m\"\u001b[39m\u001b[38;5;132;01m{\u001b[39;00mnot_found\u001b[38;5;132;01m}\u001b[39;00m\u001b[33m not in index\u001b[39m\u001b[33m\"\u001b[39m)\n",
      "\u001b[31mKeyError\u001b[39m: \"['How confident are you in your coding skills?', 'How confident are you in your computer skills?', 'How interested are you in science and technology?', 'How interested are you in maths?', 'I am motivated to pursue a career in technology', 'I will continue studying technology after I leave secondary school', 'I would enjoy working in a technology-related career'] not in index\""
     ]
    }
   ],
   "source": [
    "# Define relevant columns (you may adjust based on actual column names)\n",
    "student_columns = {\n",
    "    \"How confident are you in your coding skills? \": \"coding_confidence\",\n",
    "    \"How confident are you in your computer skills? \": \"computer_confidence\",\n",
    "    \"How interested are you in science and technology? \": \"tech_interest\",\n",
    "    \"How interested are you in maths?\\n\": \"math_interest\",\n",
    "    \"How many hours do you use technology each day?\": \"tech_use_hours\",\n",
    "    \"I am motivated to pursue a career in technology\": \"career_motivation\",\n",
    "    \"I will continue studying technology after I leave secondary school\": \"continue_tech\",\n",
    "    \"I would enjoy working in a technology-related career\": \"enjoy_tech\",\n",
    "}\n",
    "\n",
    "# Select and rename columns for both datasets\n",
    "students_india_cleaned = students_india[list(student_columns.keys())].rename(columns=student_columns)\n",
    "students_ireland_cleaned = students_ireland[list(student_columns.keys())].rename(columns=student_columns)\n",
    "\n",
    "# Add country label\n",
    "students_india_cleaned[\"country\"] = \"India\"\n",
    "students_ireland_cleaned[\"country\"] = \"Ireland\"\n",
    "\n",
    "# Combine into one dataset\n",
    "students_combined = pd.concat([students_india_cleaned, students_ireland_cleaned], ignore_index=True)\n"
   ]
  },
  {
   "cell_type": "code",
   "execution_count": null,
   "id": "c4b32680",
   "metadata": {},
   "outputs": [],
   "source": []
  }
 ],
 "metadata": {
  "kernelspec": {
   "display_name": "navigator-env",
   "language": "python",
   "name": "python3"
  },
  "language_info": {
   "codemirror_mode": {
    "name": "ipython",
    "version": 3
   },
   "file_extension": ".py",
   "mimetype": "text/x-python",
   "name": "python",
   "nbconvert_exporter": "python",
   "pygments_lexer": "ipython3",
   "version": "3.12.9"
  }
 },
 "nbformat": 4,
 "nbformat_minor": 5
}
